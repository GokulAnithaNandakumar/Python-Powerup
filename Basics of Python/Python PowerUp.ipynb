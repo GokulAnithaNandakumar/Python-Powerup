{
 "cells": [
  {
   "cell_type": "markdown",
   "id": "4c7605c2",
   "metadata": {},
   "source": [
    "### Displaying to the Console -- \"Hello, World!\""
   ]
  },
  {
   "cell_type": "code",
   "execution_count": 1,
   "id": "3baf43ba",
   "metadata": {},
   "outputs": [
    {
     "name": "stdout",
     "output_type": "stream",
     "text": [
      "Hello, World!\n"
     ]
    }
   ],
   "source": [
    "print(\"Hello, World!\")"
   ]
  },
  {
   "cell_type": "code",
   "execution_count": 2,
   "id": "ce9f6a41",
   "metadata": {},
   "outputs": [
    {
     "name": "stdout",
     "output_type": "stream",
     "text": [
      "Hello World\n"
     ]
    }
   ],
   "source": [
    "print(\"Hello\", \"World\")"
   ]
  },
  {
   "cell_type": "code",
   "execution_count": 3,
   "id": "e32e046e",
   "metadata": {},
   "outputs": [
    {
     "name": "stdout",
     "output_type": "stream",
     "text": [
      "HelloWorld\n"
     ]
    }
   ],
   "source": [
    "print(\"Hello\"+\"World\")"
   ]
  },
  {
   "cell_type": "code",
   "execution_count": 4,
   "id": "60b0a9a5",
   "metadata": {},
   "outputs": [
    {
     "name": "stdout",
     "output_type": "stream",
     "text": [
      "Hello$World\n"
     ]
    }
   ],
   "source": [
    "print(\"Hello\", \"World\", sep=\"$\")"
   ]
  },
  {
   "cell_type": "code",
   "execution_count": 6,
   "id": "ade81f09",
   "metadata": {},
   "outputs": [
    {
     "name": "stdout",
     "output_type": "stream",
     "text": [
      "Hello World---Hello\n",
      "World\n"
     ]
    }
   ],
   "source": [
    "print(\"Hello\", \"World\", end=\"---\")\n",
    "print(\"Hello\")\n",
    "print(\"World\")"
   ]
  },
  {
   "cell_type": "code",
   "execution_count": 7,
   "id": "7e13c254",
   "metadata": {},
   "outputs": [
    {
     "name": "stdout",
     "output_type": "stream",
     "text": [
      "Hello$World---"
     ]
    }
   ],
   "source": [
    "print(\"Hello\", \"World\", end=\"---\", sep=\"$\")"
   ]
  },
  {
   "cell_type": "markdown",
   "id": "eec1afbb",
   "metadata": {},
   "source": [
    "### Getting Input from the user"
   ]
  }
 ],
 "metadata": {
  "kernelspec": {
   "display_name": "Python 3 (ipykernel)",
   "language": "python",
   "name": "python3"
  },
  "language_info": {
   "codemirror_mode": {
    "name": "ipython",
    "version": 3
   },
   "file_extension": ".py",
   "mimetype": "text/x-python",
   "name": "python",
   "nbconvert_exporter": "python",
   "pygments_lexer": "ipython3",
   "version": "3.11.3"
  }
 },
 "nbformat": 4,
 "nbformat_minor": 5
}
